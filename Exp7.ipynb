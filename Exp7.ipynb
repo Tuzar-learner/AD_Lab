{
 "cells": [
  {
   "cell_type": "code",
   "execution_count": 37,
   "metadata": {},
   "outputs": [
    {
     "name": "stdout",
     "output_type": "stream",
     "text": [
      "Confusion Matrix\n",
      " [[19  0  0]\n",
      " [ 0 19  2]\n",
      " [ 0  1 19]]\n",
      "\n",
      "Accuracy: 0.95\n",
      "Precision: 0.95\n",
      "Recall: 0.95\n"
     ]
    }
   ],
   "source": [
    "from sklearn.datasets import load_iris\n",
    "from sklearn.metrics import accuracy_score ,precision_score,recall_score,confusion_matrix\n",
    "from sklearn.naive_bayes import GaussianNB\n",
    "iris = load_iris()\n",
    "X = iris.data\n",
    "y = iris.target\n",
    "from sklearn.model_selection import train_test_split\n",
    "X_train, X_test, y_train, y_test = train_test_split(X, y, test_size=0.4, random_state=1)\n",
    "gnb = GaussianNB()\n",
    "gnb.fit(X_train, y_train)\n",
    "y_pred = gnb.predict(X_test)\n",
    "print(\"Confusion Matrix\\n\",confusion_matrix(y_test, y_pred))\n",
    "print(\"\\nAccuracy:\",accuracy_score(y_test, y_pred))\n",
    "print(\"Precision:\",precision_score(y_test, y_pred,average='micro'))\n",
    "print(\"Recall:\",recall_score(y_test, y_pred,average='micro'))"
   ]
  },
  {
   "cell_type": "code",
   "execution_count": 42,
   "metadata": {},
   "outputs": [
    {
     "name": "stdout",
     "output_type": "stream",
     "text": [
      "Confusion Matrix\n",
      " [[1 0]\n",
      " [1 2]]\n",
      "Accuracy = 0.75\n",
      "Precision = 1.0\n",
      "Recall = 0.5\n"
     ]
    }
   ],
   "source": [
    "from sklearn.metrics import accuracy_score ,precision_score,recall_score,confusion_matrix\n",
    "from sklearn.naive_bayes import GaussianNB\n",
    "from sklearn.model_selection import train_test_split\n",
    "X = [4, 5, 10, 4, 3, 11, 14 , 8, 10, 12]\n",
    "y = [21, 19, 24, 17, 16, 25, 24, 22, 21, 21]\n",
    "classes=  [0, 0, 1, 0, 0, 1, 1, 0, 1, 1]\n",
    "data = list(zip(X, y))\n",
    "X_train, X_test, y_train, y_test = train_test_split(data, classes, test_size=0.4, random_state=1)\n",
    "gnb = GaussianNB()\n",
    "gnb.fit(X_train, y_train)\n",
    "y_pred = gnb.predict(X_test)\n",
    "cm = confusion_matrix(y_test, y_pred)\n",
    "print(\"Confusion Matrix\\n\",cm)\n",
    "TP =  cm[0,0]\n",
    "TN =  cm[1,1]\n",
    "FP =  cm[0,1]\n",
    "FN =  cm[1,0]\n",
    "accuracy=float((TP+TN)/(TP+TN+FP+FN))\n",
    "print(\"Accuracy =\",accuracy)\n",
    "precision=float(TP/(TP+FP))\n",
    "print(\"Precision =\",precision)\n",
    "recall=float(TP/(TP+FN))\n",
    "print(\"Recall =\",recall)"
   ]
  },
  {
   "cell_type": "code",
   "execution_count": 44,
   "metadata": {},
   "outputs": [
    {
     "name": "stdout",
     "output_type": "stream",
     "text": [
      "Confusion Matrix\n",
      " [[1 0]\n",
      " [1 2]]\n",
      "\n",
      "Accuracy: 0.75\n",
      "Precision: 0.75\n",
      "Recall: 0.75\n"
     ]
    }
   ],
   "source": [
    "from sklearn.metrics import accuracy_score ,precision_score,recall_score,confusion_matrix\n",
    "from sklearn.naive_bayes import GaussianNB\n",
    "from sklearn.model_selection import train_test_split\n",
    "X = [4, 5, 10, 4, 3, 11, 14 , 8, 10, 12]\n",
    "y = [21, 19, 24, 17, 16, 25, 24, 22, 21, 21]\n",
    "classes=  [0, 0, 1, 0, 0, 1, 1, 0, 1, 1]\n",
    "data = list(zip(X, y))\n",
    "X_train, X_test, y_train, y_test = train_test_split(data, classes, test_size=0.4, random_state=1)\n",
    "gnb = GaussianNB()\n",
    "gnb.fit(X_train, y_train)\n",
    "y_pred = gnb.predict(X_test)\n",
    "print(\"Confusion Matrix\\n\",confusion_matrix(y_test, y_pred))\n",
    "print(\"\\nAccuracy:\",accuracy_score(y_test, y_pred))\n",
    "print(\"Precision:\",precision_score(y_test, y_pred,average='micro'))\n",
    "print(\"Recall:\",recall_score(y_test, y_pred,average='micro'))\n"
   ]
  },
  {
   "cell_type": "code",
   "execution_count": 38,
   "metadata": {
    "scrolled": true
   },
   "outputs": [
    {
     "name": "stdout",
     "output_type": "stream",
     "text": [
      "Confusion Matrix\n",
      " [[19  0  0]\n",
      " [ 0 19  2]\n",
      " [ 0  1 19]]\n",
      "Accuracy = 0.967741935483871\n",
      "Precision = 1.0\n",
      "Recall = 0.9047619047619048\n"
     ]
    }
   ],
   "source": [
    "from sklearn.datasets import load_iris\n",
    "from sklearn.metrics import accuracy_score ,precision_score,recall_score,confusion_matrix\n",
    "from sklearn.naive_bayes import GaussianNB\n",
    "iris = load_iris()\n",
    "X = iris.data\n",
    "y = iris.target\n",
    "from sklearn.model_selection import train_test_split\n",
    "X_train, X_test, y_train, y_test = train_test_split(X, y, test_size=0.4, random_state=1)\n",
    "gnb = GaussianNB()\n",
    "gnb.fit(X_train, y_train)\n",
    "y_pred = gnb.predict(X_test)\n",
    "cm = confusion_matrix(y_test, y_pred)\n",
    "print(\"Confusion Matrix\\n\",cm)\n",
    "TP =  cm[0,0]\n",
    "TN =  cm[1,1]+cm[1,2]+cm[2,1]+cm[2,2]\n",
    "FP =  cm[0,1]+cm[0,2]\n",
    "FN =  cm[1,0]+cm[1,2]\n",
    "accuracy=float((TP+TN)/(TP+TN+FP+FN))\n",
    "print(\"Accuracy =\",accuracy)\n",
    "precision=float(TP/(TP+FP))\n",
    "print(\"Precision =\",precision)\n",
    "recall=float(TP/(TP+FN))\n",
    "print(\"Recall =\",recall)"
   ]
  },
  {
   "cell_type": "code",
   "execution_count": null,
   "metadata": {},
   "outputs": [],
   "source": []
  }
 ],
 "metadata": {
  "kernelspec": {
   "display_name": "Python 3",
   "language": "python",
   "name": "python3"
  },
  "language_info": {
   "codemirror_mode": {
    "name": "ipython",
    "version": 3
   },
   "file_extension": ".py",
   "mimetype": "text/x-python",
   "name": "python",
   "nbconvert_exporter": "python",
   "pygments_lexer": "ipython3",
   "version": "3.6.9"
  }
 },
 "nbformat": 4,
 "nbformat_minor": 2
}
