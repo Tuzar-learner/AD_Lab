{
 "cells": [
  {
   "cell_type": "code",
   "execution_count": 25,
   "metadata": {},
   "outputs": [
    {
     "data": {
      "image/png": "[encoded data removed]",
      "text/plain": [
       "<matplotlib.figure.Figure at 0x7fe0437d4828>"
      ]
     },
     "metadata": {},
     "output_type": "display_data"
    },
    {
     "name": "stdout",
     "output_type": "stream",
     "text": [
      "Enter the test height:160\n",
      "\n",
      "Predictions:\n",
      "\n",
      "test height\tpredicted hair length\n",
      "160\t\t23.224\n"
     ]
    }
   ],
   "source": [
    "import matplotlib.pyplot as plt\n",
    "import pandas as pd\n",
    "from scipy import stats\n",
    "def y_val(x):\n",
    "  return slope * x + intercept\n",
    "df = pd.read_csv('hair_height.csv')\n",
    "x = df.loc[:, 'height']\n",
    "y = df.loc[:, 'hair_length']\n",
    "slope, intercept, r, p, std_err = stats.linregress(x, y)\n",
    "model = []\n",
    "for i in x:\n",
    "    model.append(y_val(i))\n",
    "plt.scatter(x, y, color = 'red')\n",
    "plt.plot(x, model)\n",
    "plt.show()\n",
    "test_set = df.loc[:, 'test_height'] \n",
    "height =  int(input(\"Enter the test height:\"))\n",
    "print(\"\\nPredictions:\\n\\ntest height\\tpredicted hair length\")\n",
    "print(f\"{height}\\t\\t{round(y_val(height), 3)}\")"
   ]
  },
  {
   "cell_type": "code",
   "execution_count": null,
   "metadata": {},
   "outputs": [],
   "source": [
    "1"
   ]
  }
 ],
 "metadata": {
  "kernelspec": {
   "display_name": "Python 3",
   "language": "python",
   "name": "python3"
  },
  "language_info": {
   "codemirror_mode": {
    "name": "ipython",
    "version": 3
   },
   "file_extension": ".py",
   "mimetype": "text/x-python",
   "name": "python",
   "nbconvert_exporter": "python",
   "pygments_lexer": "ipython3",
   "version": "3.6.9"
  }
 },
 "nbformat": 4,
 "nbformat_minor": 2
}
