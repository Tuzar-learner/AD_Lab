{
 "cells": [
  {
   "cell_type": "code",
   "execution_count": 17,
   "metadata": {},
   "outputs": [
    {
     "name": "stdout",
     "output_type": "stream",
     "text": [
      "   Roll No      Name  Marks\n",
      "0       60   Thushar     86\n",
      "1       62     Varun     54\n",
      "2       59   Thomson     65\n",
      "3       42    Jisnoy     76\n",
      "4       57  Sidharth     42\n",
      "\n",
      "   Roll No      Name  Marks\n",
      "4       57  Sidharth     42\n",
      "1       62     Varun     54\n",
      "2       59   Thomson     65\n",
      "3       42    Jisnoy     76\n",
      "0       60   Thushar     86\n"
     ]
    }
   ],
   "source": [
    "import pandas as pd\n",
    "df = pd.read_csv('mark.csv')\n",
    "print(df)\n",
    "print()\n",
    "Marks = df.sort_values('Marks')\n",
    "print(Marks)"
   ]
  },
  {
   "cell_type": "code",
   "execution_count": null,
   "metadata": {},
   "outputs": [],
   "source": []
  }
 ],
 "metadata": {
  "kernelspec": {
   "display_name": "Python 3",
   "language": "python",
   "name": "python3"
  },
  "language_info": {
   "codemirror_mode": {
    "name": "ipython",
    "version": 3
   },
   "file_extension": ".py",
   "mimetype": "text/x-python",
   "name": "python",
   "nbconvert_exporter": "python",
   "pygments_lexer": "ipython3",
   "version": "3.6.9"
  }
 },
 "nbformat": 4,
 "nbformat_minor": 2
}
