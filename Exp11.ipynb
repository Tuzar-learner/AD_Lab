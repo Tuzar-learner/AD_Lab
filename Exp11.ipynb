{
 "cells": [
  {
   "cell_type": "code",
   "execution_count": 8,
   "metadata": {},
   "outputs": [
    {
     "name": "stdout",
     "output_type": "stream",
     "text": [
      "Correlation before PCA:\n",
      "\n",
      "          0         1         2         3\n",
      "0  1.000000 -0.117570  0.871754  0.817941\n",
      "1 -0.117570  1.000000 -0.428440 -0.366126\n",
      "2  0.871754 -0.428440  1.000000  0.962865\n",
      "3  0.817941 -0.366126  0.962865  1.000000\n",
      "\n",
      "Correlation after PCA:\n",
      "\n",
      "              PC1           PC2           PC3\n",
      "PC1  1.000000e+00 -2.177612e-16 -2.601165e-16\n",
      "PC2 -2.177612e-16  1.000000e+00 -2.720287e-16\n",
      "PC3 -2.601165e-16 -2.720287e-16  1.000000e+00\n"
     ]
    }
   ],
   "source": [
    "from sklearn import datasets \n",
    "import pandas as pd \n",
    "from sklearn.preprocessing import StandardScaler \n",
    "from sklearn.decomposition import PCA \n",
    "iris = datasets.load_iris()\n",
    "df = pd.DataFrame(iris['data'], columns = iris['feature_names'])\n",
    "df.head()\n",
    "scalar = StandardScaler().fit_transform(df)\n",
    "scaled_data = pd.DataFrame(scalar) \n",
    "pca = PCA(n_components = 3)\n",
    "pca.fit(scaled_data)\n",
    "data_pca = pca.transform(scaled_data)\n",
    "data_pca = pd.DataFrame(data_pca,columns=['PC1','PC2', 'PC3'])\n",
    "print(\"Correlation before PCA:\\n\")\n",
    "print(scaled_data.corr())\n",
    "print(\"\\nCorrelation after PCA:\\n\")\n",
    "print(data_pca.corr())"
   ]
  },
  {
   "cell_type": "code",
   "execution_count": 1,
   "metadata": {},
   "outputs": [
    {
     "ename": "SyntaxError",
     "evalue": "invalid syntax (<ipython-input-1-fb54de18a557>, line 1)",
     "output_type": "error",
     "traceback": [
      "\u001b[0;36m  File \u001b[0;32m\"<ipython-input-1-fb54de18a557>\"\u001b[0;36m, line \u001b[0;32m1\u001b[0m\n\u001b[0;31m    pip install seaborn\u001b[0m\n\u001b[0m              ^\u001b[0m\n\u001b[0;31mSyntaxError\u001b[0m\u001b[0;31m:\u001b[0m invalid syntax\n"
     ]
    }
   ],
   "source": [
    "pip install seaborn"
   ]
  },
  {
   "cell_type": "code",
   "execution_count": null,
   "metadata": {},
   "outputs": [],
   "source": []
  }
 ],
 "metadata": {
  "kernelspec": {
   "display_name": "Python 3",
   "language": "python",
   "name": "python3"
  }
 },
 "nbformat": 4,
 "nbformat_minor": 2
}
